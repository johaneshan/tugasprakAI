{
  "nbformat": 4,
  "nbformat_minor": 0,
  "metadata": {
    "colab": {
      "provenance": [],
      "include_colab_link": true
    },
    "kernelspec": {
      "name": "python3",
      "display_name": "Python 3"
    },
    "language_info": {
      "name": "python"
    }
  },
  "cells": [
    {
      "cell_type": "markdown",
      "metadata": {
        "id": "view-in-github",
        "colab_type": "text"
      },
      "source": [
        "<a href=\"https://colab.research.google.com/github/johaneshan/tugasprakAI/blob/main/VGG19_G231200156_ipynb.ipynb\" target=\"_parent\"><img src=\"https://colab.research.google.com/assets/colab-badge.svg\" alt=\"Open In Colab\"/></a>"
      ]
    },
    {
      "cell_type": "markdown",
      "source": [
        "#Creating CNN Using Scratch And Transfer Learning"
      ],
      "metadata": {
        "id": "lR62vUCeJer-"
      }
    },
    {
      "cell_type": "code",
      "execution_count": null,
      "metadata": {
        "id": "gu3xpmJjI5PC"
      },
      "outputs": [],
      "source": [
        "# import the libraries as shown below\n",
        "\n",
        "from tensorflow.keras.layers import Input, Lambda, Dense, Flatten,Conv2D\n",
        "from tensorflow.keras.models import Model\n",
        "from tensorflow.keras.applications.vgg19 import VGG19\n",
        "from tensorflow.keras.applications.resnet50 import preprocess_input\n",
        "from tensorflow.keras.preprocessing import image\n",
        "from tensorflow.keras.preprocessing.image import ImageDataGenerator,load_img\n",
        "from tensorflow.keras.models import Sequential\n",
        "import numpy as np\n",
        "from glob import glob\n",
        "import matplotlib.pyplot as plt"
      ]
    },
    {
      "cell_type": "code",
      "source": [
        "from google.colab import drive\n",
        "drive.mount('/content/gdrive')\n"
      ],
      "metadata": {
        "id": "l0627DjlK3gv",
        "colab": {
          "base_uri": "https://localhost:8080/"
        },
        "outputId": "a307efc6-7d10-4de0-be7d-d78b4b191094"
      },
      "execution_count": null,
      "outputs": [
        {
          "output_type": "stream",
          "name": "stdout",
          "text": [
            "Mounted at /content/gdrive\n"
          ]
        }
      ]
    },
    {
      "cell_type": "code",
      "source": [
        "# re-size all the images to this\n",
        "IMAGE_SIZE = [224, 224]\n",
        "\n",
        "train_path = '/content/gdrive/MyDrive/Khusus Kuliah/Kecerdasan Buatan/Praktikum 9/Dataset/Test'\n",
        "valid_path = '/content/gdrive/MyDrive/Khusus Kuliah/Kecerdasan Buatan/Praktikum 9/Dataset/Train'"
      ],
      "metadata": {
        "id": "y670ONX7_V0T"
      },
      "execution_count": null,
      "outputs": []
    },
    {
      "cell_type": "code",
      "source": [
        "# Import the Vgg 16 library as shown below and add preprocessing layer to the front of VGG\n",
        "# Here we will be using imagenet weights\n",
        "\n",
        "mobilnet = VGG19(input_shape=IMAGE_SIZE + [3], weights='imagenet', include_top=False)"
      ],
      "metadata": {
        "colab": {
          "base_uri": "https://localhost:8080/"
        },
        "id": "_Hutmm7Y_0sN",
        "outputId": "4d824e42-8ad2-4fc8-bef9-1c5a4a4da828"
      },
      "execution_count": null,
      "outputs": [
        {
          "output_type": "stream",
          "name": "stdout",
          "text": [
            "Downloading data from https://storage.googleapis.com/tensorflow/keras-applications/vgg19/vgg19_weights_tf_dim_ordering_tf_kernels_notop.h5\n",
            "80134624/80134624 [==============================] - 0s 0us/step\n"
          ]
        }
      ]
    },
    {
      "cell_type": "code",
      "source": [
        "# don't train existing weights\n",
        "for layer in mobilnet.layers:\n",
        "    layer.trainable = False"
      ],
      "metadata": {
        "id": "hZl31noE_1CL"
      },
      "execution_count": null,
      "outputs": []
    },
    {
      "cell_type": "code",
      "source": [
        "# useful for getting number of output classes\n",
        "folders = glob('/content/gdrive/MyDrive/Khusus Kuliah/Kecerdasan Buatan/Praktikum 9/Dataset/Train/*')"
      ],
      "metadata": {
        "id": "bTiyOn47_3aD"
      },
      "execution_count": null,
      "outputs": []
    },
    {
      "cell_type": "code",
      "source": [
        "folders"
      ],
      "metadata": {
        "colab": {
          "base_uri": "https://localhost:8080/"
        },
        "id": "LPXUFzq6ABs9",
        "outputId": "214c3228-d51e-47fa-ffa2-4f8a086565ba"
      },
      "execution_count": null,
      "outputs": [
        {
          "output_type": "execute_result",
          "data": {
            "text/plain": [
              "['/content/gdrive/MyDrive/Khusus Kuliah/Kecerdasan Buatan/Praktikum 9/Dataset/Train/Uninfected',\n",
              " '/content/gdrive/MyDrive/Khusus Kuliah/Kecerdasan Buatan/Praktikum 9/Dataset/Train/Parasite']"
            ]
          },
          "metadata": {},
          "execution_count": 7
        }
      ]
    },
    {
      "cell_type": "code",
      "source": [
        "# our layers - you can add more if you want\n",
        "x = Flatten()(mobilnet.output)"
      ],
      "metadata": {
        "id": "Wp9wiZBtACIS"
      },
      "execution_count": null,
      "outputs": []
    },
    {
      "cell_type": "code",
      "source": [
        "prediction = Dense(len(folders), activation='softmax')(x)\n",
        "\n",
        "# create a model object\n",
        "model = Model(inputs=mobilnet.input, outputs=prediction)"
      ],
      "metadata": {
        "id": "X8EKZlEbAEVK"
      },
      "execution_count": null,
      "outputs": []
    },
    {
      "cell_type": "code",
      "source": [
        "# view the structure of the model\n",
        "model.summary()"
      ],
      "metadata": {
        "colab": {
          "base_uri": "https://localhost:8080/"
        },
        "id": "EPAGGrrbAGIz",
        "outputId": "6e3f9c42-3034-473d-e3c0-29305bedae61"
      },
      "execution_count": null,
      "outputs": [
        {
          "output_type": "stream",
          "name": "stdout",
          "text": [
            "Model: \"model\"\n",
            "_________________________________________________________________\n",
            " Layer (type)                Output Shape              Param #   \n",
            "=================================================================\n",
            " input_1 (InputLayer)        [(None, 224, 224, 3)]     0         \n",
            "                                                                 \n",
            " block1_conv1 (Conv2D)       (None, 224, 224, 64)      1792      \n",
            "                                                                 \n",
            " block1_conv2 (Conv2D)       (None, 224, 224, 64)      36928     \n",
            "                                                                 \n",
            " block1_pool (MaxPooling2D)  (None, 112, 112, 64)      0         \n",
            "                                                                 \n",
            " block2_conv1 (Conv2D)       (None, 112, 112, 128)     73856     \n",
            "                                                                 \n",
            " block2_conv2 (Conv2D)       (None, 112, 112, 128)     147584    \n",
            "                                                                 \n",
            " block2_pool (MaxPooling2D)  (None, 56, 56, 128)       0         \n",
            "                                                                 \n",
            " block3_conv1 (Conv2D)       (None, 56, 56, 256)       295168    \n",
            "                                                                 \n",
            " block3_conv2 (Conv2D)       (None, 56, 56, 256)       590080    \n",
            "                                                                 \n",
            " block3_conv3 (Conv2D)       (None, 56, 56, 256)       590080    \n",
            "                                                                 \n",
            " block3_conv4 (Conv2D)       (None, 56, 56, 256)       590080    \n",
            "                                                                 \n",
            " block3_pool (MaxPooling2D)  (None, 28, 28, 256)       0         \n",
            "                                                                 \n",
            " block4_conv1 (Conv2D)       (None, 28, 28, 512)       1180160   \n",
            "                                                                 \n",
            " block4_conv2 (Conv2D)       (None, 28, 28, 512)       2359808   \n",
            "                                                                 \n",
            " block4_conv3 (Conv2D)       (None, 28, 28, 512)       2359808   \n",
            "                                                                 \n",
            " block4_conv4 (Conv2D)       (None, 28, 28, 512)       2359808   \n",
            "                                                                 \n",
            " block4_pool (MaxPooling2D)  (None, 14, 14, 512)       0         \n",
            "                                                                 \n",
            " block5_conv1 (Conv2D)       (None, 14, 14, 512)       2359808   \n",
            "                                                                 \n",
            " block5_conv2 (Conv2D)       (None, 14, 14, 512)       2359808   \n",
            "                                                                 \n",
            " block5_conv3 (Conv2D)       (None, 14, 14, 512)       2359808   \n",
            "                                                                 \n",
            " block5_conv4 (Conv2D)       (None, 14, 14, 512)       2359808   \n",
            "                                                                 \n",
            " block5_pool (MaxPooling2D)  (None, 7, 7, 512)         0         \n",
            "                                                                 \n",
            " flatten (Flatten)           (None, 25088)             0         \n",
            "                                                                 \n",
            " dense (Dense)               (None, 2)                 50178     \n",
            "                                                                 \n",
            "=================================================================\n",
            "Total params: 20,074,562\n",
            "Trainable params: 50,178\n",
            "Non-trainable params: 20,024,384\n",
            "_________________________________________________________________\n"
          ]
        }
      ]
    },
    {
      "cell_type": "code",
      "source": [
        "from tensorflow.keras.layers import MaxPooling2D"
      ],
      "metadata": {
        "id": "ieSSL4yRAIBD"
      },
      "execution_count": null,
      "outputs": []
    },
    {
      "cell_type": "code",
      "source": [
        "### Create Model from scratch using CNN\n",
        "model=Sequential()\n",
        "model.add(Conv2D(filters=16,kernel_size=2,padding=\"same\",activation=\"relu\",input_shape=(224,224,3)))\n",
        "model.add(MaxPooling2D(pool_size=2))\n",
        "model.add(Conv2D(filters=32,kernel_size=2,padding=\"same\",activation =\"relu\"))\n",
        "model.add(MaxPooling2D(pool_size=2))\n",
        "model.add(Conv2D(filters=64,kernel_size=2,padding=\"same\",activation=\"relu\"))\n",
        "model.add(MaxPooling2D(pool_size=2))\n",
        "model.add(Flatten())\n",
        "model.add(Dense(500,activation=\"relu\"))\n",
        "model.add(Dense(2,activation=\"softmax\"))\n",
        "model.summary()"
      ],
      "metadata": {
        "colab": {
          "base_uri": "https://localhost:8080/"
        },
        "id": "8cKJj08qAKVT",
        "outputId": "fea61152-3404-46ad-e932-d8bd2b693373"
      },
      "execution_count": null,
      "outputs": [
        {
          "output_type": "stream",
          "name": "stdout",
          "text": [
            "Model: \"sequential\"\n",
            "_________________________________________________________________\n",
            " Layer (type)                Output Shape              Param #   \n",
            "=================================================================\n",
            " conv2d (Conv2D)             (None, 224, 224, 16)      208       \n",
            "                                                                 \n",
            " max_pooling2d (MaxPooling2D  (None, 112, 112, 16)     0         \n",
            " )                                                               \n",
            "                                                                 \n",
            " conv2d_1 (Conv2D)           (None, 112, 112, 32)      2080      \n",
            "                                                                 \n",
            " max_pooling2d_1 (MaxPooling  (None, 56, 56, 32)       0         \n",
            " 2D)                                                             \n",
            "                                                                 \n",
            " conv2d_2 (Conv2D)           (None, 56, 56, 64)        8256      \n",
            "                                                                 \n",
            " max_pooling2d_2 (MaxPooling  (None, 28, 28, 64)       0         \n",
            " 2D)                                                             \n",
            "                                                                 \n",
            " flatten_1 (Flatten)         (None, 50176)             0         \n",
            "                                                                 \n",
            " dense_1 (Dense)             (None, 500)               25088500  \n",
            "                                                                 \n",
            " dense_2 (Dense)             (None, 2)                 1002      \n",
            "                                                                 \n",
            "=================================================================\n",
            "Total params: 25,100,046\n",
            "Trainable params: 25,100,046\n",
            "Non-trainable params: 0\n",
            "_________________________________________________________________\n"
          ]
        }
      ]
    },
    {
      "cell_type": "code",
      "source": [
        "# tell the model what cost and optimization method to use\n",
        "model.compile(\n",
        "  loss='categorical_crossentropy',\n",
        "  optimizer='adam',\n",
        "  metrics=['accuracy']\n",
        ")"
      ],
      "metadata": {
        "id": "FKFmC3_YAL1a"
      },
      "execution_count": null,
      "outputs": []
    },
    {
      "cell_type": "code",
      "source": [
        "# Use the Image Data Generator to import the images from the dataset\n",
        "from tensorflow.keras.preprocessing.image import ImageDataGenerator\n",
        "\n",
        "train_datagen = ImageDataGenerator(rescale = 1./255,\n",
        "                                   shear_range = 0.2,\n",
        "                                   zoom_range = 0.2,\n",
        "                                   horizontal_flip = True)\n",
        "\n",
        "test_datagen = ImageDataGenerator(rescale = 1./255)"
      ],
      "metadata": {
        "id": "Jlcim1OZAN6Z"
      },
      "execution_count": null,
      "outputs": []
    },
    {
      "cell_type": "code",
      "source": [
        "# Make sure you provide the same target size as initialied for the image size\n",
        "training_set = train_datagen.flow_from_directory('/content/gdrive/MyDrive/Khusus Kuliah/Kecerdasan Buatan/Praktikum 9/Dataset/Train',\n",
        "                                                 target_size = (224, 224),\n",
        "                                                 batch_size = 32,\n",
        "                                                 class_mode = 'categorical')"
      ],
      "metadata": {
        "colab": {
          "base_uri": "https://localhost:8080/"
        },
        "id": "Wsdu7_b3APe7",
        "outputId": "93c70e2a-fd36-4f8e-a88b-0b9b096ecc0d"
      },
      "execution_count": null,
      "outputs": [
        {
          "output_type": "stream",
          "name": "stdout",
          "text": [
            "Found 416 images belonging to 2 classes.\n"
          ]
        }
      ]
    },
    {
      "cell_type": "code",
      "source": [
        "training_set"
      ],
      "metadata": {
        "colab": {
          "base_uri": "https://localhost:8080/"
        },
        "id": "PL4yUKrOARJv",
        "outputId": "6f346e11-24ff-46dd-aed8-656f15ed5026"
      },
      "execution_count": null,
      "outputs": [
        {
          "output_type": "execute_result",
          "data": {
            "text/plain": [
              "<keras.preprocessing.image.DirectoryIterator at 0x7f2fbea880d0>"
            ]
          },
          "metadata": {},
          "execution_count": 17
        }
      ]
    },
    {
      "cell_type": "code",
      "source": [
        "test_set = test_datagen.flow_from_directory('/content/gdrive/MyDrive/Khusus Kuliah/Kecerdasan Buatan/Praktikum 9/Dataset/Test',\n",
        "                                            target_size = (224, 224),\n",
        "                                            batch_size = 32,\n",
        "                                            class_mode = 'categorical')"
      ],
      "metadata": {
        "colab": {
          "base_uri": "https://localhost:8080/"
        },
        "id": "ZAdyXcFHAX4J",
        "outputId": "e47761c9-c22b-4806-d123-e2709a160867"
      },
      "execution_count": null,
      "outputs": [
        {
          "output_type": "stream",
          "name": "stdout",
          "text": [
            "Found 134 images belonging to 2 classes.\n"
          ]
        }
      ]
    },
    {
      "cell_type": "code",
      "source": [
        "# fit the model\n",
        "# Run the cell. It will take some time to execute\n",
        "r = model.fit_generator(\n",
        "  training_set,\n",
        "  validation_data=test_set,\n",
        "  epochs=50,\n",
        "  steps_per_epoch=len(training_set),\n",
        "  validation_steps=len(test_set)\n",
        ")"
      ],
      "metadata": {
        "colab": {
          "base_uri": "https://localhost:8080/"
        },
        "id": "V9MA4hV6AaVB",
        "outputId": "9ee58bb4-60a3-463e-d8d9-de7f77087383"
      },
      "execution_count": null,
      "outputs": [
        {
          "metadata": {
            "tags": null
          },
          "name": "stderr",
          "output_type": "stream",
          "text": [
            "<ipython-input-20-69229fe26ea3>:3: UserWarning: `Model.fit_generator` is deprecated and will be removed in a future version. Please use `Model.fit`, which supports generators.\n",
            "  r = model.fit_generator(\n"
          ]
        },
        {
          "output_type": "stream",
          "name": "stdout",
          "text": [
            "Epoch 1/50\n",
            "13/13 [==============================] - 110s 9s/step - loss: 1.6706 - accuracy: 0.6010 - val_loss: 0.9290 - val_accuracy: 0.3806\n",
            "Epoch 2/50\n",
            "13/13 [==============================] - 32s 2s/step - loss: 0.5125 - accuracy: 0.7332 - val_loss: 0.9825 - val_accuracy: 0.3134\n",
            "Epoch 3/50\n",
            "13/13 [==============================] - 32s 2s/step - loss: 0.4641 - accuracy: 0.7572 - val_loss: 0.8990 - val_accuracy: 0.3806\n",
            "Epoch 4/50\n",
            "13/13 [==============================] - 30s 2s/step - loss: 0.4024 - accuracy: 0.7933 - val_loss: 0.7838 - val_accuracy: 0.4552\n",
            "Epoch 5/50\n",
            "13/13 [==============================] - 31s 2s/step - loss: 0.4109 - accuracy: 0.7861 - val_loss: 1.1599 - val_accuracy: 0.4328\n",
            "Epoch 6/50\n",
            "13/13 [==============================] - 30s 2s/step - loss: 0.3858 - accuracy: 0.8413 - val_loss: 0.6996 - val_accuracy: 0.5597\n",
            "Epoch 7/50\n",
            "13/13 [==============================] - 32s 2s/step - loss: 0.3749 - accuracy: 0.8438 - val_loss: 0.9733 - val_accuracy: 0.4925\n",
            "Epoch 8/50\n",
            "13/13 [==============================] - 30s 2s/step - loss: 0.3358 - accuracy: 0.8654 - val_loss: 0.6614 - val_accuracy: 0.5970\n",
            "Epoch 9/50\n",
            "13/13 [==============================] - 31s 2s/step - loss: 0.2596 - accuracy: 0.9087 - val_loss: 0.6705 - val_accuracy: 0.6269\n",
            "Epoch 10/50\n",
            "13/13 [==============================] - 32s 2s/step - loss: 0.2171 - accuracy: 0.9135 - val_loss: 0.6183 - val_accuracy: 0.7015\n",
            "Epoch 11/50\n",
            "13/13 [==============================] - 31s 2s/step - loss: 0.1938 - accuracy: 0.9303 - val_loss: 0.4717 - val_accuracy: 0.7388\n",
            "Epoch 12/50\n",
            "13/13 [==============================] - 33s 3s/step - loss: 0.2165 - accuracy: 0.9207 - val_loss: 0.6520 - val_accuracy: 0.6866\n",
            "Epoch 13/50\n",
            "13/13 [==============================] - 38s 3s/step - loss: 0.1794 - accuracy: 0.9423 - val_loss: 0.4497 - val_accuracy: 0.7687\n",
            "Epoch 14/50\n",
            "13/13 [==============================] - 31s 2s/step - loss: 0.1502 - accuracy: 0.9471 - val_loss: 0.3845 - val_accuracy: 0.8284\n",
            "Epoch 15/50\n",
            "13/13 [==============================] - 31s 2s/step - loss: 0.1416 - accuracy: 0.9615 - val_loss: 0.3751 - val_accuracy: 0.8358\n",
            "Epoch 16/50\n",
            "13/13 [==============================] - 30s 2s/step - loss: 0.1228 - accuracy: 0.9639 - val_loss: 0.3887 - val_accuracy: 0.8284\n",
            "Epoch 17/50\n",
            "13/13 [==============================] - 31s 2s/step - loss: 0.1393 - accuracy: 0.9591 - val_loss: 0.5231 - val_accuracy: 0.7761\n",
            "Epoch 18/50\n",
            "13/13 [==============================] - 31s 2s/step - loss: 0.1798 - accuracy: 0.9303 - val_loss: 0.3767 - val_accuracy: 0.8060\n",
            "Epoch 19/50\n",
            "13/13 [==============================] - 32s 2s/step - loss: 0.1472 - accuracy: 0.9471 - val_loss: 0.3568 - val_accuracy: 0.8507\n",
            "Epoch 20/50\n",
            "13/13 [==============================] - 32s 2s/step - loss: 0.0964 - accuracy: 0.9712 - val_loss: 0.2435 - val_accuracy: 0.9104\n",
            "Epoch 21/50\n",
            "13/13 [==============================] - 30s 2s/step - loss: 0.1033 - accuracy: 0.9615 - val_loss: 0.4076 - val_accuracy: 0.8358\n",
            "Epoch 22/50\n",
            "13/13 [==============================] - 31s 2s/step - loss: 0.1074 - accuracy: 0.9712 - val_loss: 0.3918 - val_accuracy: 0.8582\n",
            "Epoch 23/50\n",
            "13/13 [==============================] - 33s 3s/step - loss: 0.1167 - accuracy: 0.9663 - val_loss: 0.3827 - val_accuracy: 0.8358\n",
            "Epoch 24/50\n",
            "13/13 [==============================] - 34s 3s/step - loss: 0.0740 - accuracy: 0.9856 - val_loss: 0.4231 - val_accuracy: 0.8433\n",
            "Epoch 25/50\n",
            "13/13 [==============================] - 32s 2s/step - loss: 0.0924 - accuracy: 0.9688 - val_loss: 0.3790 - val_accuracy: 0.8507\n",
            "Epoch 26/50\n",
            "13/13 [==============================] - 32s 2s/step - loss: 0.0773 - accuracy: 0.9784 - val_loss: 0.4046 - val_accuracy: 0.8433\n",
            "Epoch 27/50\n",
            "13/13 [==============================] - 32s 2s/step - loss: 0.0590 - accuracy: 0.9856 - val_loss: 0.3584 - val_accuracy: 0.8955\n",
            "Epoch 28/50\n",
            "13/13 [==============================] - 32s 2s/step - loss: 0.0860 - accuracy: 0.9712 - val_loss: 0.4696 - val_accuracy: 0.8433\n",
            "Epoch 29/50\n",
            "13/13 [==============================] - 37s 3s/step - loss: 0.0953 - accuracy: 0.9712 - val_loss: 0.6198 - val_accuracy: 0.7985\n",
            "Epoch 30/50\n",
            "13/13 [==============================] - 35s 2s/step - loss: 0.0636 - accuracy: 0.9784 - val_loss: 0.2832 - val_accuracy: 0.8657\n",
            "Epoch 31/50\n",
            "13/13 [==============================] - 32s 2s/step - loss: 0.0657 - accuracy: 0.9760 - val_loss: 0.3877 - val_accuracy: 0.8657\n",
            "Epoch 32/50\n",
            "13/13 [==============================] - 32s 2s/step - loss: 0.1083 - accuracy: 0.9567 - val_loss: 0.4101 - val_accuracy: 0.8358\n",
            "Epoch 33/50\n",
            "13/13 [==============================] - 31s 2s/step - loss: 0.1450 - accuracy: 0.9567 - val_loss: 0.3685 - val_accuracy: 0.8433\n",
            "Epoch 34/50\n",
            "13/13 [==============================] - 30s 2s/step - loss: 0.1315 - accuracy: 0.9543 - val_loss: 0.3670 - val_accuracy: 0.8657\n",
            "Epoch 35/50\n",
            "13/13 [==============================] - 31s 2s/step - loss: 0.0855 - accuracy: 0.9712 - val_loss: 0.1991 - val_accuracy: 0.9328\n",
            "Epoch 36/50\n",
            "13/13 [==============================] - 30s 2s/step - loss: 0.0558 - accuracy: 0.9832 - val_loss: 0.2687 - val_accuracy: 0.8806\n",
            "Epoch 37/50\n",
            "13/13 [==============================] - 33s 2s/step - loss: 0.0583 - accuracy: 0.9808 - val_loss: 0.2984 - val_accuracy: 0.8881\n",
            "Epoch 38/50\n",
            "13/13 [==============================] - 31s 2s/step - loss: 0.0564 - accuracy: 0.9904 - val_loss: 0.5149 - val_accuracy: 0.8582\n",
            "Epoch 39/50\n",
            "13/13 [==============================] - 32s 2s/step - loss: 0.0671 - accuracy: 0.9784 - val_loss: 0.1846 - val_accuracy: 0.9552\n",
            "Epoch 40/50\n",
            "13/13 [==============================] - 31s 2s/step - loss: 0.0403 - accuracy: 0.9928 - val_loss: 0.5048 - val_accuracy: 0.8731\n",
            "Epoch 41/50\n",
            "13/13 [==============================] - 30s 2s/step - loss: 0.0483 - accuracy: 0.9880 - val_loss: 0.1774 - val_accuracy: 0.9478\n",
            "Epoch 42/50\n",
            "13/13 [==============================] - 33s 2s/step - loss: 0.0479 - accuracy: 0.9904 - val_loss: 0.3467 - val_accuracy: 0.8955\n",
            "Epoch 43/50\n",
            "13/13 [==============================] - 31s 2s/step - loss: 0.0401 - accuracy: 0.9784 - val_loss: 0.2402 - val_accuracy: 0.9254\n",
            "Epoch 44/50\n",
            "13/13 [==============================] - 30s 2s/step - loss: 0.0674 - accuracy: 0.9784 - val_loss: 0.4963 - val_accuracy: 0.8582\n",
            "Epoch 45/50\n",
            "13/13 [==============================] - 31s 2s/step - loss: 0.0721 - accuracy: 0.9760 - val_loss: 0.2366 - val_accuracy: 0.8955\n",
            "Epoch 46/50\n",
            "13/13 [==============================] - 41s 3s/step - loss: 0.0455 - accuracy: 0.9880 - val_loss: 0.2323 - val_accuracy: 0.9328\n",
            "Epoch 47/50\n",
            "13/13 [==============================] - 31s 2s/step - loss: 0.0519 - accuracy: 0.9856 - val_loss: 0.1916 - val_accuracy: 0.9403\n",
            "Epoch 48/50\n",
            "13/13 [==============================] - 32s 2s/step - loss: 0.0369 - accuracy: 0.9928 - val_loss: 0.2521 - val_accuracy: 0.9104\n",
            "Epoch 49/50\n",
            "13/13 [==============================] - 30s 2s/step - loss: 0.0493 - accuracy: 0.9904 - val_loss: 0.4973 - val_accuracy: 0.8582\n",
            "Epoch 50/50\n",
            "13/13 [==============================] - 35s 3s/step - loss: 0.0364 - accuracy: 0.9904 - val_loss: 0.2116 - val_accuracy: 0.9403\n"
          ]
        }
      ]
    },
    {
      "cell_type": "code",
      "source": [
        "# plot the loss\n",
        "plt.plot(r.history['loss'], label='train loss')\n",
        "plt.plot(r.history['val_loss'], label='val loss')\n",
        "plt.legend()\n",
        "plt.show()\n",
        "plt.savefig('LossVal_loss')\n",
        "\n",
        "# plot the accuracy\n",
        "plt.plot(r.history['accuracy'], label='train acc')\n",
        "plt.plot(r.history['val_accuracy'], label='val acc')\n",
        "plt.legend()\n",
        "plt.show()\n",
        "plt.savefig('AccVal_acc')"
      ],
      "metadata": {
        "colab": {
          "base_uri": "https://localhost:8080/",
          "height": 860
        },
        "id": "lesYhE9xAjwH",
        "outputId": "c0dadbff-5d1e-48dd-c8ef-86a0652454d6"
      },
      "execution_count": null,
      "outputs": [
        {
          "output_type": "display_data",
          "data": {
            "text/plain": [
              "<Figure size 640x480 with 1 Axes>"
            ],
            "image/png": "[encoded data removed]"
          },
          "metadata": {}
        },
        {
          "output_type": "display_data",
          "data": {
            "text/plain": [
              "<Figure size 640x480 with 1 Axes>"
            ],
            "image/png": "[encoded data removed]"
          },
          "metadata": {}
        },
        {
          "output_type": "display_data",
          "data": {
            "text/plain": [
              "<Figure size 640x480 with 0 Axes>"
            ]
          },
          "metadata": {}
        }
      ]
    },
    {
      "cell_type": "code",
      "source": [
        "# save it as a h5 file\n",
        "\n",
        "\n",
        "from tensorflow.keras.models import load_model\n",
        "\n",
        "model.save('model_vgg19.h5')"
      ],
      "metadata": {
        "id": "BzSvd0pXIFsj"
      },
      "execution_count": null,
      "outputs": []
    },
    {
      "cell_type": "code",
      "source": [
        "y_pred = model.predict(test_set)"
      ],
      "metadata": {
        "colab": {
          "base_uri": "https://localhost:8080/"
        },
        "id": "wIaDoso3IIZj",
        "outputId": "38270254-7d2a-45b5-9c01-4ac9af826ee1"
      },
      "execution_count": null,
      "outputs": [
        {
          "output_type": "stream",
          "name": "stdout",
          "text": [
            "5/5 [==============================] - 4s 584ms/step\n"
          ]
        }
      ]
    },
    {
      "cell_type": "code",
      "source": [
        "y_pred"
      ],
      "metadata": {
        "colab": {
          "base_uri": "https://localhost:8080/"
        },
        "id": "assJuaqRIK7X",
        "outputId": "6eba8f47-1407-4484-c130-b4f4464d8eb6"
      },
      "execution_count": null,
      "outputs": [
        {
          "output_type": "execute_result",
          "data": {
            "text/plain": [
              "array([[9.99999821e-01, 1.16224498e-07],\n",
              "       [1.21871494e-01, 8.78128469e-01],\n",
              "       [9.99999821e-01, 9.06663260e-08],\n",
              "       [2.19169870e-01, 7.80830145e-01],\n",
              "       [9.98194516e-01, 1.80550246e-03],\n",
              "       [3.07732578e-02, 9.69226658e-01],\n",
              "       [1.92597397e-02, 9.80740190e-01],\n",
              "       [9.97852921e-01, 2.14708922e-03],\n",
              "       [3.29189822e-02, 9.67081010e-01],\n",
              "       [8.33326392e-03, 9.91666734e-01],\n",
              "       [2.66497098e-02, 9.73350227e-01],\n",
              "       [9.99998987e-01, 9.26621283e-07],\n",
              "       [6.24610623e-03, 9.93753970e-01],\n",
              "       [6.46573067e-01, 3.53426963e-01],\n",
              "       [9.99939740e-01, 6.01380707e-05],\n",
              "       [9.98746693e-01, 1.25337741e-03],\n",
              "       [1.02929898e-01, 8.97070050e-01],\n",
              "       [6.07135054e-03, 9.93928730e-01],\n",
              "       [9.95637000e-01, 4.36303066e-03],\n",
              "       [9.99977648e-01, 2.22412600e-05],\n",
              "       [9.91935194e-01, 8.06469843e-03],\n",
              "       [3.39911468e-02, 9.66008782e-01],\n",
              "       [9.99955714e-01, 4.42285273e-05],\n",
              "       [5.05770519e-02, 9.49422896e-01],\n",
              "       [9.99999940e-01, 5.79617802e-14],\n",
              "       [2.22064671e-03, 9.97779310e-01],\n",
              "       [6.44526005e-01, 3.55473936e-01],\n",
              "       [9.99668479e-01, 3.31551622e-04],\n",
              "       [6.10529794e-04, 9.99389470e-01],\n",
              "       [9.97821271e-01, 2.17872392e-03],\n",
              "       [3.43433738e-01, 6.56566203e-01],\n",
              "       [6.25515699e-01, 3.74484301e-01],\n",
              "       [8.82864237e-01, 1.17135726e-01],\n",
              "       [4.70182508e-01, 5.29817462e-01],\n",
              "       [9.99728441e-01, 2.71562079e-04],\n",
              "       [7.93790072e-03, 9.92062092e-01],\n",
              "       [9.98763680e-01, 1.23633433e-03],\n",
              "       [2.12893821e-03, 9.97870982e-01],\n",
              "       [9.99765396e-01, 2.34585852e-04],\n",
              "       [9.98970985e-01, 1.02888199e-03],\n",
              "       [6.16845116e-02, 9.38315451e-01],\n",
              "       [2.70117484e-02, 9.72988129e-01],\n",
              "       [4.09676768e-02, 9.59032416e-01],\n",
              "       [9.99799490e-01, 2.00430411e-04],\n",
              "       [9.99997914e-01, 2.01676903e-06],\n",
              "       [9.97831523e-01, 2.16847914e-03],\n",
              "       [9.96021509e-01, 3.97840375e-03],\n",
              "       [9.99455333e-01, 5.44717710e-04],\n",
              "       [9.80296016e-01, 1.97039898e-02],\n",
              "       [8.79621685e-01, 1.20378323e-01],\n",
              "       [6.40016655e-03, 9.93599832e-01],\n",
              "       [9.99115348e-01, 8.84544745e-04],\n",
              "       [6.58292603e-03, 9.93416965e-01],\n",
              "       [9.95589137e-01, 4.41078516e-03],\n",
              "       [6.06147647e-02, 9.39385235e-01],\n",
              "       [7.26482868e-01, 2.73517072e-01],\n",
              "       [9.99989569e-01, 1.04072287e-05],\n",
              "       [9.99605596e-01, 3.94455303e-04],\n",
              "       [9.67319667e-01, 3.26802619e-02],\n",
              "       [5.36279706e-03, 9.94637132e-01],\n",
              "       [1.71042494e-02, 9.82895732e-01],\n",
              "       [9.99180377e-01, 8.19600944e-04],\n",
              "       [1.16269710e-02, 9.88373101e-01],\n",
              "       [9.99870062e-01, 1.30000844e-04],\n",
              "       [7.00986683e-01, 2.99013317e-01],\n",
              "       [9.57724825e-03, 9.90422606e-01],\n",
              "       [9.99729276e-01, 2.70744931e-04],\n",
              "       [9.99999940e-01, 1.60565734e-12],\n",
              "       [9.99336660e-01, 6.63337880e-04],\n",
              "       [3.33449990e-02, 9.66654956e-01],\n",
              "       [9.99999940e-01, 7.35516194e-13],\n",
              "       [9.99056160e-01, 9.43843625e-04],\n",
              "       [9.91762280e-01, 8.23773071e-03],\n",
              "       [9.99988377e-01, 1.15519279e-05],\n",
              "       [9.98889089e-01, 1.11090334e-03],\n",
              "       [9.88730669e-01, 1.12693785e-02],\n",
              "       [5.51317409e-02, 9.44868386e-01],\n",
              "       [9.99999940e-01, 1.12430198e-08],\n",
              "       [9.99986708e-01, 1.32198602e-05],\n",
              "       [3.85190779e-03, 9.96148109e-01],\n",
              "       [9.99647856e-01, 3.52155330e-04],\n",
              "       [9.98420238e-01, 1.57964730e-03],\n",
              "       [9.99995410e-01, 4.48492165e-06],\n",
              "       [9.98683572e-01, 1.31637347e-03],\n",
              "       [4.44784351e-02, 9.55521584e-01],\n",
              "       [9.99528825e-01, 4.71137551e-04],\n",
              "       [9.99998391e-01, 1.52012683e-06],\n",
              "       [7.03269482e-01, 2.96730369e-01],\n",
              "       [3.87277920e-03, 9.96127069e-01],\n",
              "       [2.21237466e-02, 9.77876246e-01],\n",
              "       [1.05437469e-02, 9.89456296e-01],\n",
              "       [9.98864293e-01, 1.13577838e-03],\n",
              "       [9.88793612e-01, 1.12063047e-02],\n",
              "       [9.99876022e-01, 1.24068043e-04],\n",
              "       [9.96653270e-03, 9.90033448e-01],\n",
              "       [9.98988867e-01, 1.01114111e-03],\n",
              "       [4.18275595e-03, 9.95817184e-01],\n",
              "       [9.98975515e-01, 1.02433213e-03],\n",
              "       [9.71616030e-01, 2.83839367e-02],\n",
              "       [5.14535196e-02, 9.48546410e-01],\n",
              "       [9.99999940e-01, 3.15913008e-12],\n",
              "       [9.95172799e-01, 4.82721999e-03],\n",
              "       [1.12425171e-01, 8.87574852e-01],\n",
              "       [3.44231958e-03, 9.96557593e-01],\n",
              "       [7.89787024e-02, 9.21021402e-01],\n",
              "       [4.13353648e-03, 9.95866477e-01],\n",
              "       [3.64599079e-01, 6.35400832e-01],\n",
              "       [9.99969661e-01, 3.02848730e-05],\n",
              "       [9.99507725e-01, 4.92256484e-04],\n",
              "       [9.96456802e-01, 3.54314456e-03],\n",
              "       [9.99977887e-01, 2.20980237e-05],\n",
              "       [7.06586195e-03, 9.92934108e-01],\n",
              "       [9.99999940e-01, 4.04073610e-08],\n",
              "       [9.99080896e-01, 9.19105660e-04],\n",
              "       [9.99999821e-01, 6.88246971e-08],\n",
              "       [9.99590337e-01, 4.09689732e-04],\n",
              "       [2.39800848e-02, 9.76019859e-01],\n",
              "       [9.99999940e-01, 1.16291070e-12],\n",
              "       [4.33218927e-04, 9.99566734e-01],\n",
              "       [1.70845017e-02, 9.82915521e-01],\n",
              "       [9.64626551e-01, 3.53734456e-02],\n",
              "       [9.99345243e-01, 6.54750911e-04],\n",
              "       [9.98644531e-01, 1.35541777e-03],\n",
              "       [9.97147322e-01, 2.85259658e-03],\n",
              "       [9.99998629e-01, 1.32485604e-06],\n",
              "       [4.58112778e-03, 9.95418906e-01],\n",
              "       [6.50769379e-03, 9.93492305e-01],\n",
              "       [1.96348573e-03, 9.98036563e-01],\n",
              "       [9.99993920e-01, 6.08305572e-06],\n",
              "       [5.44455230e-01, 4.55544770e-01],\n",
              "       [9.97406065e-01, 2.59388424e-03],\n",
              "       [9.98603046e-01, 1.39701099e-03],\n",
              "       [9.91950274e-01, 8.04972183e-03],\n",
              "       [7.46310083e-03, 9.92536843e-01]], dtype=float32)"
            ]
          },
          "metadata": {},
          "execution_count": 24
        }
      ]
    },
    {
      "cell_type": "code",
      "source": [
        "import numpy as np\n",
        "y_pred = np.argmax(y_pred, axis=1)"
      ],
      "metadata": {
        "id": "MAksJ02oIM8c"
      },
      "execution_count": null,
      "outputs": []
    },
    {
      "cell_type": "code",
      "source": [
        "y_pred"
      ],
      "metadata": {
        "colab": {
          "base_uri": "https://localhost:8080/"
        },
        "id": "5aSS3rahIPyx",
        "outputId": "c88885d9-55f5-4723-d04e-85c935575773"
      },
      "execution_count": null,
      "outputs": [
        {
          "output_type": "execute_result",
          "data": {
            "text/plain": [
              "array([0, 1, 0, 1, 0, 1, 1, 0, 1, 1, 1, 0, 1, 0, 0, 0, 1, 1, 0, 0, 0, 1,\n",
              "       0, 1, 0, 1, 0, 0, 1, 0, 1, 0, 0, 1, 0, 1, 0, 1, 0, 0, 1, 1, 1, 0,\n",
              "       0, 0, 0, 0, 0, 0, 1, 0, 1, 0, 1, 0, 0, 0, 0, 1, 1, 0, 1, 0, 0, 1,\n",
              "       0, 0, 0, 1, 0, 0, 0, 0, 0, 0, 1, 0, 0, 1, 0, 0, 0, 0, 1, 0, 0, 0,\n",
              "       1, 1, 1, 0, 0, 0, 1, 0, 1, 0, 0, 1, 0, 0, 1, 1, 1, 1, 1, 0, 0, 0,\n",
              "       0, 1, 0, 0, 0, 0, 1, 0, 1, 1, 0, 0, 0, 0, 0, 1, 1, 1, 0, 0, 0, 0,\n",
              "       0, 1])"
            ]
          },
          "metadata": {},
          "execution_count": 26
        }
      ]
    },
    {
      "cell_type": "code",
      "source": [
        "from tensorflow.keras.models import load_model\n",
        "from tensorflow.keras.preprocessing import image\n"
      ],
      "metadata": {
        "id": "2dFUKlE4IRjt"
      },
      "execution_count": null,
      "outputs": []
    },
    {
      "cell_type": "code",
      "source": [
        "model=load_model('model_vgg19.h5')\n"
      ],
      "metadata": {
        "id": "UH0uElHEIT7I"
      },
      "execution_count": null,
      "outputs": []
    },
    {
      "cell_type": "code",
      "source": [
        "img=image.load_img('/content/gdrive/MyDrive/Khusus Kuliah/Kecerdasan Buatan/Praktikum 9/Dataset/Test/Uninfected/2.png',target_size=(224,224))"
      ],
      "metadata": {
        "id": "9tbS-zoiIg_m"
      },
      "execution_count": null,
      "outputs": []
    },
    {
      "cell_type": "code",
      "source": [
        "x=image.img_to_array(img)\n",
        "x"
      ],
      "metadata": {
        "colab": {
          "base_uri": "https://localhost:8080/"
        },
        "id": "8gnT1Y_QIYd5",
        "outputId": "6f3e2dfb-ab0d-47dd-950e-09a74e134929"
      },
      "execution_count": null,
      "outputs": [
        {
          "output_type": "execute_result",
          "data": {
            "text/plain": [
              "array([[[0., 0., 0.],\n",
              "        [0., 0., 0.],\n",
              "        [0., 0., 0.],\n",
              "        ...,\n",
              "        [0., 0., 0.],\n",
              "        [0., 0., 0.],\n",
              "        [0., 0., 0.]],\n",
              "\n",
              "       [[0., 0., 0.],\n",
              "        [0., 0., 0.],\n",
              "        [0., 0., 0.],\n",
              "        ...,\n",
              "        [0., 0., 0.],\n",
              "        [0., 0., 0.],\n",
              "        [0., 0., 0.]],\n",
              "\n",
              "       [[0., 0., 0.],\n",
              "        [0., 0., 0.],\n",
              "        [0., 0., 0.],\n",
              "        ...,\n",
              "        [0., 0., 0.],\n",
              "        [0., 0., 0.],\n",
              "        [0., 0., 0.]],\n",
              "\n",
              "       ...,\n",
              "\n",
              "       [[0., 0., 0.],\n",
              "        [0., 0., 0.],\n",
              "        [0., 0., 0.],\n",
              "        ...,\n",
              "        [0., 0., 0.],\n",
              "        [0., 0., 0.],\n",
              "        [0., 0., 0.]],\n",
              "\n",
              "       [[0., 0., 0.],\n",
              "        [0., 0., 0.],\n",
              "        [0., 0., 0.],\n",
              "        ...,\n",
              "        [0., 0., 0.],\n",
              "        [0., 0., 0.],\n",
              "        [0., 0., 0.]],\n",
              "\n",
              "       [[0., 0., 0.],\n",
              "        [0., 0., 0.],\n",
              "        [0., 0., 0.],\n",
              "        ...,\n",
              "        [0., 0., 0.],\n",
              "        [0., 0., 0.],\n",
              "        [0., 0., 0.]]], dtype=float32)"
            ]
          },
          "metadata": {},
          "execution_count": 33
        }
      ]
    },
    {
      "cell_type": "code",
      "source": [
        "x.shape"
      ],
      "metadata": {
        "colab": {
          "base_uri": "https://localhost:8080/"
        },
        "id": "opvv9rpqIbw6",
        "outputId": "e83f14b6-ff1e-4ed3-ec70-761388262802"
      },
      "execution_count": null,
      "outputs": [
        {
          "output_type": "execute_result",
          "data": {
            "text/plain": [
              "(224, 224, 3)"
            ]
          },
          "metadata": {},
          "execution_count": 34
        }
      ]
    },
    {
      "cell_type": "code",
      "source": [
        "x=x/255"
      ],
      "metadata": {
        "id": "p3dBk4HNIyn2"
      },
      "execution_count": null,
      "outputs": []
    },
    {
      "cell_type": "code",
      "source": [
        "x=np.expand_dims(x,axis=0)\n",
        "img_data=preprocess_input(x)\n",
        "img_data.shape"
      ],
      "metadata": {
        "colab": {
          "base_uri": "https://localhost:8080/"
        },
        "id": "QIdT0WobIz6y",
        "outputId": "4c363769-5bff-497f-8c8a-987cf7c6bdb2"
      },
      "execution_count": null,
      "outputs": [
        {
          "output_type": "execute_result",
          "data": {
            "text/plain": [
              "(1, 224, 224, 3)"
            ]
          },
          "metadata": {},
          "execution_count": 36
        }
      ]
    },
    {
      "cell_type": "code",
      "source": [
        "model.predict(img_data)"
      ],
      "metadata": {
        "colab": {
          "base_uri": "https://localhost:8080/"
        },
        "id": "6Wk4XWkdI1U9",
        "outputId": "d3395e2c-d5d1-42cb-8cac-dfbf34606ba1"
      },
      "execution_count": null,
      "outputs": [
        {
          "output_type": "stream",
          "name": "stdout",
          "text": [
            "1/1 [==============================] - 0s 160ms/step\n"
          ]
        },
        {
          "output_type": "execute_result",
          "data": {
            "text/plain": [
              "array([[0., 1.]], dtype=float32)"
            ]
          },
          "metadata": {},
          "execution_count": 37
        }
      ]
    },
    {
      "cell_type": "code",
      "source": [
        "a=np.argmax(model.predict(img_data), axis=1)"
      ],
      "metadata": {
        "id": "oRvljffXI2xW",
        "outputId": "b6665e37-30f0-4a7c-b4d1-92753eaeddcb",
        "colab": {
          "base_uri": "https://localhost:8080/"
        }
      },
      "execution_count": null,
      "outputs": [
        {
          "output_type": "stream",
          "name": "stdout",
          "text": [
            "1/1 [==============================] - 0s 79ms/step\n"
          ]
        }
      ]
    },
    {
      "cell_type": "code",
      "source": [
        "if(a==1):\n",
        "    print(\"Uninfected\")\n",
        "else:\n",
        "    print(\"Infected\")"
      ],
      "metadata": {
        "id": "GxMEzPSyI48G",
        "outputId": "e1c3f84c-9995-4869-fa27-af2bf34dbd95",
        "colab": {
          "base_uri": "https://localhost:8080/"
        }
      },
      "execution_count": null,
      "outputs": [
        {
          "output_type": "stream",
          "name": "stdout",
          "text": [
            "Uninfected\n"
          ]
        }
      ]
    }
  ]
}